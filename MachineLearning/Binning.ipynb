{
 "cells": [
  {
   "cell_type": "code",
   "execution_count": 1,
   "metadata": {},
   "outputs": [],
   "source": [
    "import csv\n",
    "# finxing the labels file\n",
    "with open('Set2/labels.csv','r') as csvinput:\n",
    "    with open('Set2/FixedLabels.csv', 'w') as csvoutput:\n",
    "        writer = csv.writer(csvoutput)\n",
    "\n",
    "        for row in csv.reader(csvinput):\n",
    "            if row[1] == \"1\":\n",
    "                row.append(\"0\")\n",
    "                writer.writerow(row)\n",
    "            else:\n",
    "                row.append(\"1\")\n",
    "                writer.writerow(row)"
   ]
  },
  {
   "cell_type": "code",
   "execution_count": 7,
   "metadata": {},
   "outputs": [
    {
     "name": "stdout",
     "output_type": "stream",
     "text": [
      "Spam tweets = 99\n",
      "Bening tweets = 352\n"
     ]
    }
   ],
   "source": [
    "# getting the count of spam and non Spam\n",
    "# adding the spam and benign rows to their respective lists\n",
    "spam_count = 0\n",
    "spam_rows = []\n",
    "benign_count = 0\n",
    "benign_rows = []\n",
    "with open('Set2/FixedLabels.csv', 'r') as f:\n",
    "    for row in csv.reader(f):\n",
    "        if row[1] == \"1\":\n",
    "            spam_count = spam_count + 1\n",
    "            spam_rows.append(row)\n",
    "        else:\n",
    "            benign_count = benign_count + 1\n",
    "            benign_rows.append(row)\n",
    "print(\"Spam tweets = \"+str(spam_count))\n",
    "print(\"Bening tweets = \"+str(benign_count))"
   ]
  },
  {
   "cell_type": "code",
   "execution_count": 9,
   "metadata": {},
   "outputs": [],
   "source": [
    "# creating 5 seperate bins\n",
    "spam_in_bin = int(spam_count / 5)\n",
    "benign_in_bin = int(benign_count / 5)"
   ]
  },
  {
   "cell_type": "code",
   "execution_count": 16,
   "metadata": {},
   "outputs": [],
   "source": [
    "# make 5 bins and write them to a file for labels only\n",
    "for x in range(0,5):\n",
    "    with open('Set2/bins/LabelBin'+str(x+1)+'.csv', 'w') as b:\n",
    "        writer = csv.writer(b)\n",
    "        # write spam \n",
    "        for spam_index_value in range(x*spam_in_bin, (x*spam_in_bin)+spam_in_bin):\n",
    "            writer.writerow(spam_rows[spam_index_value])\n",
    "        for benign_index_value in range(x*benign_in_bin, (x*benign_in_bin)+benign_in_bin):\n",
    "            writer.writerow(benign_rows[benign_index_value])"
   ]
  },
  {
   "cell_type": "code",
   "execution_count": 22,
   "metadata": {},
   "outputs": [
    {
     "name": "stdout",
     "output_type": "stream",
     "text": [
      "451\n",
      "1078017049341743104\n"
     ]
    }
   ],
   "source": [
    "# creating vector bins\n",
    "# open large vector file\n",
    "# read all the vectors\n",
    "vector_rows = []\n",
    "with open('Set2/reducedVector.csv', 'r') as y:\n",
    "    for row in csv.reader(y):\n",
    "        vector_rows.append(row)\n"
   ]
  },
  {
   "cell_type": "code",
   "execution_count": 36,
   "metadata": {},
   "outputs": [
    {
     "name": "stdout",
     "output_type": "stream",
     "text": [
      "89\n",
      "89\n",
      "89\n",
      "89\n",
      "89\n"
     ]
    }
   ],
   "source": [
    "# read all the tweet ids from labelbins one by one\n",
    "for x in range(0,5):\n",
    "    tweetIDs_in_bin = []\n",
    "    with open('Set2/bins/LabelBin'+str(x+1)+'.csv', 'r') as y:\n",
    "        for row in csv.reader(y):\n",
    "            tweetIDs_in_bin.append(row[0])\n",
    "    print(len(tweetIDs_in_bin))\n",
    "    # write the corresponding vectors to vector bin file\n",
    "    with open('Set2/bins/VectorBin'+str(x+1)+'.csv', 'w') as z:\n",
    "        writer = csv.writer(z)\n",
    "        for tweet_id_bin in tweetIDs_in_bin:\n",
    "            for tweet_id_vector in range(0, len(vector_rows)):\n",
    "                if tweet_id_bin == vector_rows[tweet_id_vector][0]:\n",
    "                    writer.writerow(vector_rows[tweet_id_vector])\n",
    "                    break\n",
    "                "
   ]
  },
  {
   "cell_type": "code",
   "execution_count": null,
   "metadata": {},
   "outputs": [],
   "source": []
  }
 ],
 "metadata": {
  "kernelspec": {
   "display_name": "Python 3",
   "language": "python",
   "name": "python3"
  },
  "language_info": {
   "codemirror_mode": {
    "name": "ipython",
    "version": 3
   },
   "file_extension": ".py",
   "mimetype": "text/x-python",
   "name": "python",
   "nbconvert_exporter": "python",
   "pygments_lexer": "ipython3",
   "version": "3.6.8"
  }
 },
 "nbformat": 4,
 "nbformat_minor": 2
}
