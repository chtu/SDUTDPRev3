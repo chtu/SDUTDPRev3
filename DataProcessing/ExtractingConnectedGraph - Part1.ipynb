{
 "cells": [
  {
   "cell_type": "code",
   "execution_count": 1,
   "metadata": {},
   "outputs": [],
   "source": [
    "import json\n",
    "import networkx as nx\n",
    "from networkx.readwrite import json_graph"
   ]
  },
  {
   "cell_type": "code",
   "execution_count": 2,
   "metadata": {},
   "outputs": [],
   "source": [
    "# making the root node\n",
    "G = nx.Graph()\n",
    "G.add_node('Daddythompson2')"
   ]
  },
  {
   "cell_type": "code",
   "execution_count": 3,
   "metadata": {},
   "outputs": [],
   "source": [
    "# read the associated users file from the data collected\n",
    "with open('../DataCollection/Daddythompson2-1/stronglyConnectedUsers.txt', 'r') as f:\n",
    "    lines = f.readlines()\n",
    "strongly_connected_users = []\n",
    "for line in lines:\n",
    "    strongly_connected_users.append(line.strip())"
   ]
  },
  {
   "cell_type": "code",
   "execution_count": 4,
   "metadata": {},
   "outputs": [],
   "source": [
    "all_level2_nodes = []\n",
    "for item in strongly_connected_users:\n",
    "    # create nodes between the root user and the 1st level user\n",
    "    G.add_node(item)\n",
    "    G.add_edge('Daddythompson2', item)\n",
    "    try:\n",
    "        with open('../DataCollection/Daddythompson2-2/'+item+'/stronglyConnectedUsers.txt', 'r') as f:\n",
    "            lines = f.readlines()\n",
    "        strongly_connected_users_hop2 = []\n",
    "        for line in lines:\n",
    "            strongly_connected_users_hop2.append(line.strip())\n",
    "        for item2 in strongly_connected_users_hop2:\n",
    "            G.add_node(item2)\n",
    "            G.add_edge(item, item2)\n",
    "        all_level2_nodes += strongly_connected_users_hop2\n",
    "    except FileNotFoundError:\n",
    "        pass\n",
    "    "
   ]
  },
  {
   "cell_type": "code",
   "execution_count": 5,
   "metadata": {},
   "outputs": [
    {
     "name": "stdout",
     "output_type": "stream",
     "text": [
      "25344\n",
      "27282\n",
      "27257\n"
     ]
    }
   ],
   "source": [
    "print(len(G.nodes))\n",
    "print(len(G.edges))\n",
    "print(len(all_level2_nodes))"
   ]
  },
  {
   "cell_type": "code",
   "execution_count": 6,
   "metadata": {},
   "outputs": [
    {
     "name": "stdout",
     "output_type": "stream",
     "text": [
      "Found connection between The_Jordy_Shore and emilyxstella\n",
      "Found connection between danielle9266 and 13bookey\n",
      "Found connection between danielle9266 and CarrionTrilevel\n",
      "Found connection between danielle9266 and wendigrier22\n",
      "Found connection between 13bookey and paulg189\n",
      "Found connection between RebbecaTLove and marccunnilingus\n",
      "Found connection between littlekvrly and mariano_gzz7\n",
      "Found connection between wendigrier22 and paulg189\n",
      "Found connection between paulg189 and 13bookey\n",
      "Found connection between NinjaXMasterX9 and deusaa22\n",
      "Found connection between deusaa22 and NinjaXMasterX9\n",
      "Found connection between Taylin_Monroe and Raven_Krystyne\n",
      "25344\n",
      "27282\n"
     ]
    }
   ],
   "source": [
    "# checking interconnections for level 1\n",
    "for item in strongly_connected_users:\n",
    "    for item2 in strongly_connected_users:\n",
    "        try:\n",
    "            with open('../DataCollection/Daddythompson2-2/'+item2+'/stronglyConnectedUsers.txt', 'r') as f:\n",
    "                lines = f.readlines()\n",
    "            associated_users = []\n",
    "            for line in lines:\n",
    "                associated_users.append(line.strip())\n",
    "            if item in associated_users:\n",
    "                print(\"Found connection between \"+item+\" and \"+item2)\n",
    "                G.add_edge(item, item2)\n",
    "        except FileNotFoundError:\n",
    "            pass\n",
    "print(len(G.nodes))\n",
    "print(len(G.edges))"
   ]
  },
  {
   "cell_type": "code",
   "execution_count": 7,
   "metadata": {},
   "outputs": [
    {
     "name": "stdout",
     "output_type": "stream",
     "text": [
      "25344\n",
      "288762\n"
     ]
    }
   ],
   "source": [
    "# checking interconnections between hop 2\n",
    "for item3 in all_level2_nodes:\n",
    "    for item4 in all_level2_nodes:\n",
    "        try:\n",
    "            with open('../DataCollection/Daddythompson2-3/'+item4+'/stronglyConnectedUsers.txt', 'r') as f:\n",
    "                lines = f.readlines()\n",
    "            associated_users = []\n",
    "            for line in lines:\n",
    "                associated_users.append(line.strip())\n",
    "            if item3 in associated_users:\n",
    "                #print(\"Found connection between \"+item3+\" and \"+item4)\n",
    "                G.add_edge(item3, item4)\n",
    "        except FileNotFoundError:\n",
    "            pass\n",
    "print(len(G.nodes))\n",
    "print(len(G.edges))"
   ]
  },
  {
   "cell_type": "code",
   "execution_count": 8,
   "metadata": {},
   "outputs": [
    {
     "name": "stdout",
     "output_type": "stream",
     "text": [
      "288762\n",
      "25344\n"
     ]
    }
   ],
   "source": [
    "UG = G.to_undirected()\n",
    "print(len(UG.edges))\n",
    "print(len(UG.nodes))"
   ]
  },
  {
   "cell_type": "code",
   "execution_count": 9,
   "metadata": {},
   "outputs": [
    {
     "name": "stdout",
     "output_type": "stream",
     "text": [
      "288762\n",
      "25344\n"
     ]
    }
   ],
   "source": [
    "# remnnoving self-loops, k-core does not work with self-loops in the graph\n",
    "UG.remove_edges_from(nx.selfloop_edges(UG))\n",
    "print(len(UG.edges))\n",
    "print(len(UG.nodes))"
   ]
  },
  {
   "cell_type": "code",
   "execution_count": 10,
   "metadata": {},
   "outputs": [
    {
     "name": "stdout",
     "output_type": "stream",
     "text": [
      "288762\n",
      "25344\n"
     ]
    }
   ],
   "source": [
    "# extracting all the graphs from the undirected graph with order of the node = 2\n",
    "graph = list(nx.connected_component_subgraphs(nx.k_core(UG,k=2)))\n",
    "print(len(UG.edges))\n",
    "print(len(UG.nodes))"
   ]
  },
  {
   "cell_type": "code",
   "execution_count": 11,
   "metadata": {},
   "outputs": [],
   "source": [
    "json_data = json_graph.node_link_data(graph[0])"
   ]
  },
  {
   "cell_type": "code",
   "execution_count": 12,
   "metadata": {},
   "outputs": [],
   "source": [
    "with open('json_graph.json', 'w') as outfile:\n",
    "    nx.write_gexf(graph[0], \"gexFile.gexf\")\n",
    "    json.dump(json_data, outfile)"
   ]
  },
  {
   "cell_type": "code",
   "execution_count": null,
   "metadata": {},
   "outputs": [],
   "source": []
  }
 ],
 "metadata": {
  "kernelspec": {
   "display_name": "Python 3",
   "language": "python",
   "name": "python3"
  },
  "language_info": {
   "codemirror_mode": {
    "name": "ipython",
    "version": 3
   },
   "file_extension": ".py",
   "mimetype": "text/x-python",
   "name": "python",
   "nbconvert_exporter": "python",
   "pygments_lexer": "ipython3",
   "version": "3.6.8"
  }
 },
 "nbformat": 4,
 "nbformat_minor": 2
}
