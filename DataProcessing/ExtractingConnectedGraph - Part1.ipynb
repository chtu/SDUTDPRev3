{
 "cells": [
  {
   "cell_type": "code",
   "execution_count": 1,
   "metadata": {},
   "outputs": [],
   "source": [
    "import json\n",
    "import networkx as nx\n",
    "from networkx.readwrite import json_graph"
   ]
  },
  {
   "cell_type": "code",
   "execution_count": 2,
   "metadata": {},
   "outputs": [],
   "source": [
    "# making the root node\n",
    "G = nx.Graph()\n",
    "G.add_node('WhiteMediafrica')"
   ]
  },
  {
   "cell_type": "code",
   "execution_count": 3,
   "metadata": {},
   "outputs": [
    {
     "name": "stdout",
     "output_type": "stream",
     "text": [
      "294\n"
     ]
    }
   ],
   "source": [
    "# read the associated users file from the data collected\n",
    "with open('../DataCollection/WhiteMediafrica/stronglyConnectedUsers.txt', 'r') as f:\n",
    "    lines = f.readlines()\n",
    "strongly_connected_users = []\n",
    "for line in lines:\n",
    "    strongly_connected_users.append(line.strip())\n",
    "print(len(strongly_connected_users))"
   ]
  },
  {
   "cell_type": "code",
   "execution_count": 4,
   "metadata": {},
   "outputs": [],
   "source": [
    "all_level2_nodes = []\n",
    "for item in strongly_connected_users:\n",
    "    # create nodes between the root user and the 1st level user\n",
    "    G.add_node(item)\n",
    "    G.add_edge('WhiteMediafrica', item)\n",
    "    '''\n",
    "    # create nodes between level 1 and level 2 users\n",
    "    try:\n",
    "        with open('../DataCollection/joker_no_bar/'+item+'/stronglyConnectedUsers.txt', 'r') as f:\n",
    "            lines = f.readlines()\n",
    "        strongly_connected_users_hop2 = []\n",
    "        for line in lines:\n",
    "            strongly_connected_users_hop2.append(line.strip())\n",
    "        for item2 in strongly_connected_users_hop2:\n",
    "            G.add_node(item2)\n",
    "            G.add_edge(item, item2)\n",
    "        all_level2_nodes += strongly_connected_users_hop2\n",
    "    except FileNotFoundError:\n",
    "        pass\n",
    "    '''"
   ]
  },
  {
   "cell_type": "code",
   "execution_count": 5,
   "metadata": {},
   "outputs": [
    {
     "name": "stdout",
     "output_type": "stream",
     "text": [
      "295\n",
      "294\n",
      "0\n"
     ]
    }
   ],
   "source": [
    "print(len(G.nodes))\n",
    "print(len(G.edges))\n",
    "print(len(all_level2_nodes))"
   ]
  },
  {
   "cell_type": "code",
   "execution_count": 6,
   "metadata": {},
   "outputs": [
    {
     "name": "stdout",
     "output_type": "stream",
     "text": [
      "Found connection between Uzalo_SABC1 and abaphathi\n",
      "Found connection between Uzalo_SABC1 and TeddyXaba\n",
      "Found connection between themusicimbizo and SandyBMegastar\n",
      "Found connection between nelisiwe_sibiya and mondlimzizi\n",
      "Found connection between Cafeskyzer11 and Sjerere_dj\n",
      "Found connection between SowetoTVchannel and oscar_Udeddie\n",
      "Found connection between sa_artists and Thabzero_NUZ\n",
      "Found connection between nam_radio and Zuka_DC\n",
      "Found connection between durbanjozinites and blose2sizwe\n",
      "Found connection between durbanjozinites and DJSQENGQE\n",
      "Found connection between durbanjozinites and ZuluBoyFriend\n",
      "Found connection between ZakweSA and mlutheartist\n",
      "Found connection between ZakweSA and IamParadise_Sa\n",
      "Found connection between LalombaMusic and DiseboMusic\n",
      "Found connection between LalombaMusic and abaphathi\n",
      "Found connection between Ladylatta and Zuka_DC\n",
      "Found connection between LwaziGB_SA and Ladylatta\n",
      "Found connection between LwaziGB_SA and ThizaKhumalo\n",
      "Found connection between LwaziGB_SA and moja_pooh\n",
      "Found connection between jet_dynamics and DjSpin745\n",
      "Found connection between jet_dynamics and DeeJayHustle_MP\n",
      "Found connection between TheMusicDA and AndileNgidi7\n",
      "Found connection between TheMusicDA and TheLeg3ndary\n",
      "Found connection between MusicBoxEntSA and PzetSA\n",
      "Found connection between RealDjTerance and DJ_Pearl_Bahle\n",
      "Found connection between RealDjTerance and PzetSA\n",
      "Found connection between MuNgcolosi and zanelemthethw17\n",
      "Found connection between blose2sizwe and Sjerere_dj\n",
      "Found connection between blose2sizwe and DJSQENGQE\n",
      "Found connection between Tebogo_Louw and Uguyouthradio\n",
      "Found connection between sanele_mkhizeh and siphelele_fuze\n",
      "Found connection between BoogieHarrySA and hotbwoyp\n",
      "Found connection between BoogieHarrySA and PoetMastermind\n",
      "Found connection between BoogieHarrySA and DjSpin745\n",
      "Found connection between BoogieHarrySA and CHAVISTO_FRANCE\n",
      "Found connection between NocxyMabika and LuciaMthiyane\n",
      "Found connection between Sjerere_dj and Cafeskyzer11\n",
      "Found connection between Sjerere_dj and blose2sizwe\n",
      "Found connection between Sjerere_dj and IamParadise_Sa\n",
      "Found connection between sosha745 and DjSpin745\n",
      "Found connection between nathi_mankayi and khanyacomms\n",
      "Found connection between nathi_mankayi and MajorArtOffice\n",
      "Found connection between nathi_mankayi and Dancegoddess1\n",
      "Found connection between nathi_mankayi and simisojaca\n",
      "Found connection between Zuka_DC and DjSpin745\n",
      "Found connection between MeetKingKoolie and DJSQENGQE\n",
      "Found connection between KaMavusoSA and TongaatBeach\n",
      "Found connection between KaMavusoSA and xoliebhengu\n",
      "Found connection between KaMavusoSA and mshalisto\n",
      "Found connection between KaMavusoSA and zanelemthethw17\n",
      "Found connection between Tnngcobo and blose2sizwe\n",
      "Found connection between Tnngcobo and TongaatBeach\n",
      "Found connection between Tnngcobo and Sjerere_dj\n",
      "Found connection between Tnngcobo and Nomigumede\n",
      "Found connection between Tnngcobo and mshalisto\n",
      "Found connection between Tnngcobo and LuciaMthiyane\n",
      "Found connection between Tnngcobo and PhumlaniNkwanya\n",
      "Found connection between siphelele_fuze and sanele_mkhizeh\n",
      "Found connection between Karabo_Mokgoko and duduWagaG\n",
      "Found connection between Karabo_Mokgoko and MillyMashile\n",
      "Found connection between Karabo_Mokgoko and MajorArtOffice\n",
      "Found connection between Karabo_Mokgoko and Thokozani_Hlong\n",
      "Found connection between Karabo_Mokgoko and TongaatBeach\n",
      "Found connection between Karabo_Mokgoko and BishopthandaM\n",
      "Found connection between Karabo_Mokgoko and hotbwoyp\n",
      "Found connection between Karabo_Mokgoko and Zuka_DC\n",
      "Found connection between Karabo_Mokgoko and MrG_RSA\n",
      "Found connection between Karabo_Mokgoko and mapulemchunu\n",
      "Found connection between Karabo_Mokgoko and fananojobe1\n",
      "Found connection between Karabo_Mokgoko and BuhleofGospel\n",
      "Found connection between Karabo_Mokgoko and CHAVISTO_FRANCE\n",
      "Found connection between PoetMastermind and YungFess\n",
      "Found connection between seanhchoe and DjSpin745\n",
      "Found connection between seanhchoe and DeeJayHustle_MP\n",
      "Found connection between DJ_Pearl_Bahle and zanelemthethw17\n",
      "Found connection between NhlanhlaNhlapo and Oz_Lindokuhle\n",
      "Found connection between Bongani76Mavuso and blose2sizwe\n",
      "Found connection between Bongani76Mavuso and Nomigumede\n",
      "Found connection between Bongani76Mavuso and mshalisto\n",
      "Found connection between Bongani76Mavuso and ezasekhaya_arts\n",
      "Found connection between Bongani76Mavuso and zanelemthethw17\n",
      "Found connection between Bongani76Mavuso and SandyBMegastar\n",
      "Found connection between djsbu and Cne_Passion\n",
      "Found connection between ZarciaZA and PASTABDXLL\n",
      "Found connection between ZarciaZA and SirFestive\n",
      "Found connection between HillbrowRadio and IAMYNGKING\n",
      "Found connection between Eassy__ and AndileNgidi7\n",
      "Found connection between MashabaWinnie and abaphathi\n",
      "Found connection between MashabaWinnie and DJSQENGQE\n",
      "Found connection between deejayprincesa and DJSQENGQE\n",
      "Found connection between Cuebur and DiseboMusic\n",
      "Found connection between khanyaBHAR and Cafeskyzer11\n",
      "Found connection between khanyaBHAR and soozandbnnyt\n",
      "Found connection between khanyaBHAR and DjSpin745\n",
      "Found connection between khanyaBHAR and MrG_RSA\n",
      "Found connection between khanyaBHAR and SandyBMegastar\n",
      "Found connection between phindilephewa and BishopthandaM\n",
      "Found connection between phindilephewa and djzeal4life\n",
      "Found connection between sphongolishSA and blose2sizwe\n",
      "Found connection between sphongolishSA and phindilephewa\n",
      "Found connection between sphongolishSA and Diskiqueen_\n",
      "Found connection between DjSpin745 and Zuka_DC\n",
      "Found connection between DjSpin745 and DJSQENGQE\n",
      "Found connection between HomyBeezSA and DJSQENGQE\n",
      "Found connection between Moni_R and EarlCraig06\n",
      "Found connection between Chymamusique and IamParadise_Sa\n",
      "Found connection between Chymamusique and Tha_DBN\n",
      "Found connection between Mapasexy and DJSQENGQE\n",
      "Found connection between EarlCraig06 and Moni_R\n",
      "Found connection between peterndoro and DJ_Pearl_Bahle\n",
      "Found connection between peterndoro and DJSQENGQE\n",
      "Found connection between ErnieSmithzn and DiseboMusic\n",
      "Found connection between workwthecoach and Beevatar\n",
      "Found connection between workwthecoach and OmegaXDreams\n",
      "Found connection between workwthecoach and Alyscia_C\n",
      "Found connection between workwthecoach and PoetMastermind\n",
      "Found connection between SirFestive and ZarciaZA\n",
      "Found connection between DJSQENGQE and blose2sizwe\n",
      "Found connection between DJSQENGQE and DjSpin745\n",
      "Found connection between DJSQENGQE and YungFess\n",
      "Found connection between DJSQENGQE and DeeJayHustle_MP\n",
      "Found connection between DJSQENGQE and 1Mevana\n",
      "Found connection between DJSQENGQE and DjBrightSA\n",
      "Found connection between UlrichJvV and JarredLove13\n",
      "Found connection between UlrichJvV and DjSpin745\n",
      "Found connection between UlrichJvV and DJSQENGQE\n",
      "Found connection between UlrichJvV and simisojaca\n",
      "Found connection between xoliebhengu and DjNdringos1\n",
      "Found connection between JodyMasaEyez and NeoNtlatleng\n",
      "Found connection between JodyMasaEyez and AndileNgidi7\n",
      "Found connection between JodyMasaEyez and DJSQENGQE\n",
      "Found connection between JodyMasaEyez and simisojaca\n",
      "Found connection between YungFess and DJSQENGQE\n",
      "Found connection between mshalisto and zanelemthethw17\n",
      "Found connection between malusimbokazi and abaphathi\n",
      "Found connection between Tha_DBN and PzetSA\n",
      "Found connection between Tha_DBN and abaphathi\n",
      "Found connection between DeeJayHustle_MP and DJSQENGQE\n",
      "Found connection between ZeegeeSa and blose2sizwe\n",
      "Found connection between ZeegeeSa and Nomigumede\n",
      "Found connection between ZeegeeSa and DjBrightSA\n",
      "Found connection between dog_shinzo and mshalisto\n",
      "Found connection between ZuluBoyFriend and durbanjozinites\n",
      "Found connection between ZuluBoyFriend and xoliebhengu\n",
      "Found connection between ZuluBoyFriend and ngidizanefa\n",
      "Found connection between ZuluBoyFriend and Blozey\n",
      "Found connection between ZuluBoyFriend and DjNdringos1\n",
      "Found connection between ZuluBoyFriend and ThulaniGa\n",
      "Found connection between chynamandj and IamParadise_Sa\n",
      "Found connection between chynamandj and PzetSA\n",
      "Found connection between IamMzilikazi and Beevatar\n",
      "Found connection between IamMzilikazi and Simps_majola\n",
      "Found connection between IamMzilikazi and blose2sizwe\n",
      "Found connection between IamMzilikazi and Zuka_DC\n",
      "Found connection between IamMzilikazi and MlixxFR\n",
      "Found connection between IamMzilikazi and DJ_Pearl_Bahle\n",
      "Found connection between IamMzilikazi and zanelemthethw17\n",
      "Found connection between IamMzilikazi and AmandaSoGood\n",
      "Found connection between IamMzilikazi and 1Mevana\n",
      "Found connection between Dj_Bongz and soozandbnnyt\n"
     ]
    },
    {
     "name": "stdout",
     "output_type": "stream",
     "text": [
      "Found connection between zanelemthethw17 and DJ_Pearl_Bahle\n",
      "Found connection between zanelemthethw17 and mshalisto\n",
      "Found connection between LungiNaidoo and NeoNtlatleng\n",
      "Found connection between LungiNaidoo and blose2sizwe\n",
      "Found connection between LungiNaidoo and simisojaca\n",
      "Found connection between deborah_fraser_ and zanelemthethw17\n",
      "Found connection between naolifant and mshalisto\n",
      "Found connection between naolifant and zanelemthethw17\n",
      "Found connection between naolifant and PhumlaniNkwanya\n",
      "Found connection between mapulemchunu and mshalisto\n",
      "Found connection between mapulemchunu and TeddyXaba\n",
      "Found connection between ayandamsweli46 and BishopthandaM\n",
      "Found connection between ayandamsweli46 and Nomigumede\n",
      "Found connection between ayandamsweli46 and zanelemthethw17\n",
      "Found connection between ayandamsweli46 and MthunzigoodXulu\n",
      "Found connection between Blozey and SADJAwards\n",
      "Found connection between Blozey and BishopthandaM\n",
      "Found connection between Blozey and xoliebhengu\n",
      "Found connection between Blozey and mshalisto\n",
      "Found connection between Blozey and zanelemthethw17\n",
      "Found connection between ladydwabantu and Sjerere_dj\n",
      "Found connection between ladydwabantu and MlixxFR\n",
      "Found connection between MthunzigoodXulu and TeddyXaba\n",
      "Found connection between Diskiqueen_ and DJSQENGQE\n",
      "Found connection between djzeal4life and phindilephewa\n",
      "Found connection between djzeal4life and DJSQENGQE\n",
      "Found connection between djzeal4life and DjBrightSA\n",
      "Found connection between DjNdringos1 and xoliebhengu\n",
      "Found connection between kholekamusic and Uvukilegospel\n",
      "Found connection between ThulaniGa and abaphathi\n",
      "Found connection between AmandaSoGood and mshalisto\n",
      "Found connection between MduNcalane and DJSQENGQE\n",
      "Found connection between MduNcalane and mshalisto\n",
      "Found connection between MduNcalane and zanelemthethw17\n",
      "Found connection between NdoniYoMoya and mlutheartist\n",
      "Found connection between NdoniYoMoya and fananojobe1\n",
      "Found connection between AndileKaMajola and abaphathi\n",
      "Found connection between Yfm and Iambusin_sa\n",
      "Found connection between sparksbantwana and Sjerere_dj\n",
      "Found connection between sparksbantwana and DjSpin745\n",
      "Found connection between Bhekamchunu and kholekamusic\n",
      "Found connection between Bhekamchunu and dj_cndo\n",
      "Found connection between MthoshDlamini and DjBrightSA\n",
      "Found connection between JacintaNgobese and AmandaSoGood\n",
      "Found connection between SabcCrownAwards and abaphathi\n",
      "Found connection between mkokstad_dumi and abaphathi\n",
      "Found connection between mkokstad_dumi and zanelemthethw17\n",
      "Found connection between mkokstad_dumi and simisojaca\n",
      "Found connection between LeehRadioDj and DJSQENGQE\n",
      "Found connection between LuckySefatsa and MajorArtOffice\n",
      "Found connection between LuckySefatsa and blose2sizwe\n",
      "Found connection between iamCollenZondo and mlutheartist\n",
      "Found connection between iamCollenZondo and abaphathi\n",
      "Found connection between SandyBMegastar and mshalisto\n",
      "Found connection between djmngadi and fananojobe1\n",
      "Found connection between mondlimzizi and ProtectionIngwe\n",
      "Found connection between mondlimzizi and MajorArtOffice\n",
      "Found connection between mondlimzizi and blose2sizwe\n",
      "Found connection between mondlimzizi and TongaatBeach\n",
      "Found connection between mondlimzizi and mshalisto\n",
      "Found connection between 1Mevana and DJSQENGQE\n",
      "Found connection between SiinaNina and mshalisto\n",
      "Found connection between SiinaNina and zanelemthethw17\n",
      "Found connection between SiinaNina and DjBrightSA\n",
      "Found connection between CHAVISTO_FRANCE and DeeJayHustle_MP\n",
      "Found connection between MsajeroRSA and DJSQENGQE\n",
      "Found connection between DJVUMAR and IamParadise_Sa\n",
      "Found connection between naimakaysa and IamParadise_Sa\n",
      "Found connection between AlexMthiyane and DumiB_Nabalalel\n",
      "Found connection between AlexMthiyane and ezasekhaya_arts\n",
      "Found connection between DjBrightSA and DJSQENGQE\n",
      "Found connection between Nqubekondlela and DjNdringos1\n",
      "295\n",
      "509\n"
     ]
    }
   ],
   "source": [
    "# checking interconnections for level 1\n",
    "for item in strongly_connected_users:\n",
    "    for item2 in strongly_connected_users:\n",
    "        try:\n",
    "            with open('../DataCollection/WhiteMediafrica/'+item2+'/stronglyConnectedUsers.txt', 'r') as f:\n",
    "                lines = f.readlines()\n",
    "            associated_users = []\n",
    "            for line in lines:\n",
    "                associated_users.append(line.strip())\n",
    "            if item in associated_users:\n",
    "                print(\"Found connection between \"+item+\" and \"+item2)\n",
    "                G.add_edge(item, item2)\n",
    "        except FileNotFoundError:\n",
    "            pass\n",
    "print(len(G.nodes))\n",
    "print(len(G.edges))"
   ]
  },
  {
   "cell_type": "code",
   "execution_count": 7,
   "metadata": {},
   "outputs": [
    {
     "data": {
      "text/plain": [
       "'\\n# checking interconnections between hop 2\\nfor item3 in all_level2_nodes:\\n    for item4 in all_level2_nodes:\\n        try:\\n            with open(\\'../DataCollection/Daddythompson2-3/\\'+item4+\\'/stronglyConnectedUsers.txt\\', \\'r\\') as f:\\n                lines = f.readlines()\\n            associated_users = []\\n            for line in lines:\\n                associated_users.append(line.strip())\\n            if item3 in associated_users:\\n                #print(\"Found connection between \"+item3+\" and \"+item4)\\n                G.add_edge(item3, item4)\\n        except FileNotFoundError:\\n            pass\\nprint(len(G.nodes))\\nprint(len(G.edges))\\n'"
      ]
     },
     "execution_count": 7,
     "metadata": {},
     "output_type": "execute_result"
    }
   ],
   "source": [
    "'''\n",
    "# checking interconnections between hop 2\n",
    "for item3 in all_level2_nodes:\n",
    "    for item4 in all_level2_nodes:\n",
    "        try:\n",
    "            with open('../DataCollection/Daddythompson2-3/'+item4+'/stronglyConnectedUsers.txt', 'r') as f:\n",
    "                lines = f.readlines()\n",
    "            associated_users = []\n",
    "            for line in lines:\n",
    "                associated_users.append(line.strip())\n",
    "            if item3 in associated_users:\n",
    "                #print(\"Found connection between \"+item3+\" and \"+item4)\n",
    "                G.add_edge(item3, item4)\n",
    "        except FileNotFoundError:\n",
    "            pass\n",
    "print(len(G.nodes))\n",
    "print(len(G.edges))\n",
    "'''"
   ]
  },
  {
   "cell_type": "code",
   "execution_count": 8,
   "metadata": {},
   "outputs": [
    {
     "name": "stdout",
     "output_type": "stream",
     "text": [
      "509\n",
      "295\n"
     ]
    }
   ],
   "source": [
    "UG = G.to_undirected()\n",
    "print(len(UG.edges))\n",
    "print(len(UG.nodes))"
   ]
  },
  {
   "cell_type": "code",
   "execution_count": 9,
   "metadata": {},
   "outputs": [
    {
     "name": "stdout",
     "output_type": "stream",
     "text": [
      "509\n",
      "295\n"
     ]
    }
   ],
   "source": [
    "# remnnoving self-loops, k-core does not work with self-loops in the graph\n",
    "UG.remove_edges_from(nx.selfloop_edges(UG))\n",
    "print(len(UG.edges))\n",
    "print(len(UG.nodes))"
   ]
  },
  {
   "cell_type": "code",
   "execution_count": 10,
   "metadata": {},
   "outputs": [
    {
     "name": "stdout",
     "output_type": "stream",
     "text": [
      "375\n",
      "161\n"
     ]
    }
   ],
   "source": [
    "# extracting all the graphs from the undirected graph with order of the node = 2\n",
    "graph = list(nx.connected_component_subgraphs(nx.k_core(UG,k=2)))\n",
    "print(len(graph[0].edges))\n",
    "print(len(graph[0].nodes))"
   ]
  },
  {
   "cell_type": "code",
   "execution_count": 11,
   "metadata": {},
   "outputs": [],
   "source": [
    "json_data = json_graph.node_link_data(graph[0])"
   ]
  },
  {
   "cell_type": "code",
   "execution_count": 12,
   "metadata": {},
   "outputs": [],
   "source": [
    "with open('json_graph.json', 'w') as outfile:\n",
    "    nx.write_gexf(graph[0], \"gexFile.gexf\")\n",
    "    json.dump(json_data, outfile)"
   ]
  },
  {
   "cell_type": "code",
   "execution_count": null,
   "metadata": {},
   "outputs": [],
   "source": []
  }
 ],
 "metadata": {
  "kernelspec": {
   "display_name": "Python 3",
   "language": "python",
   "name": "python3"
  },
  "language_info": {
   "codemirror_mode": {
    "name": "ipython",
    "version": 3
   },
   "file_extension": ".py",
   "mimetype": "text/x-python",
   "name": "python",
   "nbconvert_exporter": "python",
   "pygments_lexer": "ipython3",
   "version": "3.6.8"
  }
 },
 "nbformat": 4,
 "nbformat_minor": 2
}
