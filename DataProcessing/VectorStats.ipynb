{
 "cells": [
  {
   "cell_type": "code",
   "execution_count": 1,
   "metadata": {},
   "outputs": [],
   "source": [
    "import csv"
   ]
  },
  {
   "cell_type": "code",
   "execution_count": 3,
   "metadata": {},
   "outputs": [
    {
     "name": "stdout",
     "output_type": "stream",
     "text": [
      "Total Vectors: 451\n",
      "One non zero values: 0\n",
      "Two non zero values: 416\n",
      "Three non zero values: 31\n",
      "Four non zero values: 4\n",
      "More than four non zero values: 0\n"
     ]
    }
   ],
   "source": [
    "totalVectors = 0\n",
    "oneNonZero = 0\n",
    "OneNonZero = 0\n",
    "TwoNonZero = 0\n",
    "ThreeNonZero = 0\n",
    "FourNonZero = 0\n",
    "moreThanFourNonZero = 0\n",
    "with open('reducedVector.csv', 'r', newline='') as csvfile:\n",
    "    vectors = csv.reader(csvfile, delimiter=',')\n",
    "    for vector in vectors:\n",
    "        totalVectors = totalVectors + 1\n",
    "        nonZeroValues = 0\n",
    "        for item in range(0, len(vector)):\n",
    "            if int(vector[item]) > 0:\n",
    "                nonZeroValues = nonZeroValues + 1\n",
    "        if nonZeroValues == 2:\n",
    "            oneNonZero = oneNonZero + 1\n",
    "        elif nonZeroValues == 3:\n",
    "            TwoNonZero = TwoNonZero + 1\n",
    "        elif nonZeroValues == 4:\n",
    "            ThreeNonZero = ThreeNonZero + 1\n",
    "        elif nonZeroValues == 5:\n",
    "            FourNonZero = FourNonZero + 1\n",
    "        else:\n",
    "            moreThanFourNonZero = moreThanFourNonZero + 1\n",
    "print(\"Total Vectors: \"+str(totalVectors))\n",
    "print(\"One non zero values: \"+str(oneNonZero))\n",
    "print(\"Two non zero values: \"+str(TwoNonZero))\n",
    "print(\"Three non zero values: \"+str(ThreeNonZero))\n",
    "print(\"Four non zero values: \"+str(FourNonZero))\n",
    "print(\"More than four non zero values: \"+str(moreThanFourNonZero))"
   ]
  },
  {
   "cell_type": "code",
   "execution_count": null,
   "metadata": {},
   "outputs": [],
   "source": []
  }
 ],
 "metadata": {
  "kernelspec": {
   "display_name": "Python 3",
   "language": "python",
   "name": "python3"
  },
  "language_info": {
   "codemirror_mode": {
    "name": "ipython",
    "version": 3
   },
   "file_extension": ".py",
   "mimetype": "text/x-python",
   "name": "python",
   "nbconvert_exporter": "python",
   "pygments_lexer": "ipython3",
   "version": "3.6.8"
  }
 },
 "nbformat": 4,
 "nbformat_minor": 2
}
