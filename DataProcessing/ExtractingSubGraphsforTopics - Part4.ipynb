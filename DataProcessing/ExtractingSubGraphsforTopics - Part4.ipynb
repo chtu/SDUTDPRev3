{
 "cells": [
  {
   "cell_type": "code",
   "execution_count": 1,
   "metadata": {},
   "outputs": [],
   "source": [
    "import pandas as pd \n",
    "import json\n",
    "import networkx as nx\n",
    "from networkx.readwrite import json_graph"
   ]
  },
  {
   "cell_type": "code",
   "execution_count": 2,
   "metadata": {},
   "outputs": [
    {
     "data": {
      "text/html": [
       "<div>\n",
       "<style scoped>\n",
       "    .dataframe tbody tr th:only-of-type {\n",
       "        vertical-align: middle;\n",
       "    }\n",
       "\n",
       "    .dataframe tbody tr th {\n",
       "        vertical-align: top;\n",
       "    }\n",
       "\n",
       "    .dataframe thead th {\n",
       "        text-align: right;\n",
       "    }\n",
       "</style>\n",
       "<table border=\"1\" class=\"dataframe\">\n",
       "  <thead>\n",
       "    <tr style=\"text-align: right;\">\n",
       "      <th></th>\n",
       "      <th>Unnamed: 0</th>\n",
       "      <th>Document_No</th>\n",
       "      <th>First_Topic</th>\n",
       "      <th>Second_Topic</th>\n",
       "      <th>Third_Topic</th>\n",
       "      <th>Document_ID</th>\n",
       "    </tr>\n",
       "  </thead>\n",
       "  <tbody>\n",
       "    <tr>\n",
       "      <th>0</th>\n",
       "      <td>0</td>\n",
       "      <td>0</td>\n",
       "      <td>3.0</td>\n",
       "      <td>13.0</td>\n",
       "      <td>8.0</td>\n",
       "      <td>clean_RedneckTWD.csv</td>\n",
       "    </tr>\n",
       "    <tr>\n",
       "      <th>1</th>\n",
       "      <td>1</td>\n",
       "      <td>1</td>\n",
       "      <td>1.0</td>\n",
       "      <td>23.0</td>\n",
       "      <td>8.0</td>\n",
       "      <td>clean_the_rabidweasel.csv</td>\n",
       "    </tr>\n",
       "    <tr>\n",
       "      <th>2</th>\n",
       "      <td>2</td>\n",
       "      <td>2</td>\n",
       "      <td>13.0</td>\n",
       "      <td>2.0</td>\n",
       "      <td>5.0</td>\n",
       "      <td>clean_JordanElizabeth.csv</td>\n",
       "    </tr>\n",
       "    <tr>\n",
       "      <th>3</th>\n",
       "      <td>3</td>\n",
       "      <td>3</td>\n",
       "      <td>2.0</td>\n",
       "      <td>13.0</td>\n",
       "      <td>5.0</td>\n",
       "      <td>clean_flower_boho.csv</td>\n",
       "    </tr>\n",
       "    <tr>\n",
       "      <th>4</th>\n",
       "      <td>4</td>\n",
       "      <td>4</td>\n",
       "      <td>23.0</td>\n",
       "      <td>1.0</td>\n",
       "      <td>16.0</td>\n",
       "      <td>clean_Kathleen3693693.csv</td>\n",
       "    </tr>\n",
       "  </tbody>\n",
       "</table>\n",
       "</div>"
      ],
      "text/plain": [
       "   Unnamed: 0  Document_No  First_Topic  Second_Topic  Third_Topic  \\\n",
       "0           0            0          3.0          13.0          8.0   \n",
       "1           1            1          1.0          23.0          8.0   \n",
       "2           2            2         13.0           2.0          5.0   \n",
       "3           3            3          2.0          13.0          5.0   \n",
       "4           4            4         23.0           1.0         16.0   \n",
       "\n",
       "                 Document_ID  \n",
       "0       clean_RedneckTWD.csv  \n",
       "1  clean_the_rabidweasel.csv  \n",
       "2  clean_JordanElizabeth.csv  \n",
       "3      clean_flower_boho.csv  \n",
       "4  clean_Kathleen3693693.csv  "
      ]
     },
     "execution_count": 2,
     "metadata": {},
     "output_type": "execute_result"
    }
   ],
   "source": [
    "data = pd.read_csv(\"/Users/savanpatel/Desktop/sfsu/research/spamDetection/SDUTDPRev3/DataProcessing/DominantTopics.csv\") \n",
    "data.head()"
   ]
  },
  {
   "cell_type": "code",
   "execution_count": 3,
   "metadata": {},
   "outputs": [
    {
     "data": {
      "text/plain": [
       "'\\nbefore proceeding create folders named below in the DataProcessing directory\\ngexFiles\\nSubGraphGexFiles\\nSubGraphs\\n'"
      ]
     },
     "execution_count": 3,
     "metadata": {},
     "output_type": "execute_result"
    }
   ],
   "source": [
    "'''\n",
    "before proceeding create folders named below in the DataProcessing directory\n",
    "gexFiles\n",
    "SubGraphGexFiles\n",
    "SubGraphs\n",
    "'''"
   ]
  },
  {
   "cell_type": "code",
   "execution_count": 4,
   "metadata": {},
   "outputs": [
    {
     "name": "stdout",
     "output_type": "stream",
     "text": [
      "26.0\n"
     ]
    }
   ],
   "source": [
    "max_topics = data['First_Topic'].max() + 1\n",
    "print(max_topics)"
   ]
  },
  {
   "cell_type": "code",
   "execution_count": 7,
   "metadata": {},
   "outputs": [],
   "source": [
    "def read_json_graph(filename):\n",
    "    with open(filename) as f:\n",
    "        js_graph = json.load(f)\n",
    "    return json_graph.node_link_graph(js_graph)"
   ]
  },
  {
   "cell_type": "code",
   "execution_count": 18,
   "metadata": {},
   "outputs": [
    {
     "name": "stdout",
     "output_type": "stream",
     "text": [
      "<class 'str'>\n"
     ]
    }
   ],
   "source": [
    "G = nx.Graph()\n",
    "G = read_json_graph('json_graph.json')\n",
    "list_of_user = list(G.nodes)\n",
    "list_of_edges = list(G.edges)\n",
    "print(type(list_of_edges[0][0]))"
   ]
  },
  {
   "cell_type": "code",
   "execution_count": 27,
   "metadata": {},
   "outputs": [
    {
     "name": "stdout",
     "output_type": "stream",
     "text": [
      "['_Mike_Douglas', 'BuvizOfficial', 'CynthiaLIVE', 'ryanfoland', 'dalewagner38', '6BillionPeople', 'TosinOlugbenga', 'jameshickstwi', 'Bitchproblem13', 'TheIotWarehouse', 'CBDivaHealth', 'SteveWestly', 'AHealthyBod', 'BitcoinView', 'HagenForster', 'marshawright', 'SurvivorSupply', 'serronaldmrylz', 'mjsocialequity', 'frankkolnacki', 'AshleyW27214768', 'NotOkThatsOk', 'pascalguyon', 'AskAaronLee', 'rogerhamilton', 'motherearth16', 'YvesMulkers', 'animatorsupport', 'dbl', 'JamesHicksUK', 'designermizan', 'TammyBroccas', 'daneconsulting', 'NoseGrindstoned', 'johnhall', 'FreddieKlifman', 'stojkovic_alex', 'SandyTweetAngel', 'TCo4385']\n",
      "--------------------\n",
      "2\n",
      "0\n",
      "['the_rabidweasel', 'horrorgal429', 'WakePolice', 'music_reading', 'ThatEricAlper', 'danieIIara', 'kar_marr', 'BaldeSavannah', 'khuBaibStation', 'DevereMrs', 'JackPhan', 'kenradio', 'patsyinsofia', 'J_voghel', 'jigsonsaid', 'Getlockers', '_thekonsept_', 'keatxngrant', 'DumpTheManChild', 'FavoredSinner', 'MariettaDaviz', 'DRajesh_U4PH', 'AlexWhitcomb', 'AreYou2020Blue', 'Sarah_alba20', 'Korede03191952', 'AwwHELLToTheNaw', 'Shoxie75', '_BrexitTory', 'theodoricofyork', 'PMBreakingNews', 'Jeandre_Goliath', 'ChrisCharlotteG', 'MrBradPreston', 'jerryfrankson']\n",
      "--------------------\n",
      "1\n",
      "0\n",
      "['flower_boho', 'CAA_Official', 'elsie_lachlan', 'factsupport', 'Herlexandre', '_drakebro', 'IAmYungRacks', 'itsamericancats', 'kittykushman626', 'pari351451', 'CarrionTrilevel', 'VidsBaby', 'BurakTorunResmi', 't4citurnal', 'naturelove__zoo', 'Alexpofficial_', 'nature908', 'Amazingattack', 'CharlesWieand', 'MilesSTEREOS', 'RelibleF', 'xxmdan', 'wildanimallove', 'blondygirl1', 'Bestcatsu', 'Pussydog5', 'Amazlngcreature', 'LilGoat25', 'littleduckie_', 'cuteanimalsp', 'james37145804', 'Phil_Sledge', 'WipeHomophobia', 'iDanekDanielle']\n",
      "--------------------\n",
      "3\n",
      "0\n",
      "['RedneckTWD', 'DianaRaney1', 'CharGriffi', 'smartgiryh', 'DonWalk69920500', 'Bklou', 'CosplayingDead', 'KJPURPLE622TWD', 'Sweetlove99', 'Earle13404668', 'Tonniemayo5', 'amp_83', 'HershelGreene', 'kjware1', 'schnuppideluxe', 'CayaJRussell', 'ZMcGowanFanClub', 'DrEugeneWD', 'AntoniaSchmitt4', 'Lee_Milbrandt', 'BrandenJMusic', 'yamigautam_1', 'hibissunrise', 'Daryldi00770489', 'robyn_lance', 'Killer_edit', 'TwdTjl', 'JamieGr18204397', 'TrevCampbell', 'Melissa27290294', 'horror_man__', 'walkerbaitxtwd', 'amitbabe', 'Christi38140542', 'Gamerstone_', 'danielle9266', 'dead_post', 'slonenish', 'floralbouquet5', 'RenIysPeach', '13bookey', 'ZaiMcreedus', 'FaucherKatrina', 'Ayushi1_', 'twdimages', 'TheRealLucille_', 'rott_weilers', 'Clark09913505', 'joke7277', 'flashjoe', 'jakemyers530', 'legitDottieO', 'aviarymolina', 'burdillon7', 'WeAreTWDFam', 'TheWalkinNorman', 'ReedusDixon10', 'DeadThingsGame', 'kayevhill', 'tanyapateman', 'AzadAnkit1', 'jonmagnussonof', 'JessHarnell', 'Whitetigress1', 'kristynorris74', 'JulieWa17063630', 'wendigrier22', 'melissa_lipps', 'ddixonlove', 'Jeffrey_JDM', 'HiThisIsJen']\n",
      "--------------------\n",
      "78\n",
      "1\n",
      "-----------------------\n",
      "['MSweetwood', 'LaraeKHughes1', 'WJourneyer', 'poemdep', 'best_photogrphy', 'FeelingsWorld1', 'joyofmuseums', 'WeatherTV1', 'natureslover_s', 'wisewordtolive', 'janviKapoor_1', 'imgntnWrld', 'MarPagesTWL', 'AdventureCars1', 'OTruta', 'w0nderfulplace', 'BubblyMoments', '5earth_', 'worldtravelpi', 'CheesyBread9', 'TomHall', 'educationalpict', 'AntonioParis', 'atruthslapped', 'bounce_kcaB', 'geophotos9', 'itsdolphinlover', 'Anakin2000', 'Trvlpic', 'OWCalifornia', 'DabangBoy5', 'BlackHalt', 'bestofAPF', 'GGabArt', 'MelissaBWhite2', 'poemsdeps_', 'ogecebel', 'vidyalovely', 'ItalyLifest', 'ittravelbucket', 'nature_faces', 'itsGalsoutflt', 'francescosidori', 'krystalLORETTA']\n",
      "--------------------\n",
      "0\n",
      "0\n",
      "['bigrain', 'mediafick', 'SatyrahH', 'AngelaBelcamino', 'WhatsTrending', 'MoneyEvs', 'The_Jordy_Shore', 'phantom4203', 'Shivambu71', 'ShmooReport', 'waynebosworth', 'rbstill2', 'YoungDieselBBM', 'Artwell34119542', '_Benji53', 'AJandTara', 'shwood', 'Record_Banana_', 'closgolfing']\n",
      "--------------------\n",
      "0\n",
      "0\n",
      "['SonDakikaTurk', 'HelalEtTRT', 'VahapErenTR', 'alperaltun', 'malatyagercek', 'dirilispostasi', 'ugurarslanvip', 'HamzaKerem2019', 'haber365', '_yavuzatalay', 'recebterzi', 'zkakkaya', 'BozkurtDergi', 'uzunkokcan', 'saidercan', 'AjansHaberResmi', 'ulkucumedyacom', 'MehmetSercanOge', 'TwitPrensi', 'kahramanhakan', 'selim_karadavut', 'zaraofficialtr']\n",
      "--------------------\n",
      "0\n",
      "0\n",
      "['bulliedwhiteboy', 'GARY93031950', 'duanemeek1', 'ashley224329251', 'sugardadcute', 'djholy007', 'sexyritageorge', 'LexycatX', 'BikudoGlobal', 'CandyLaneHome', 'Michael2Baggett', 'Sarah99659116', 'supercars500', 'lookingsmartgir', 'mason64733066', 'KudusAkinkunmi', 'KyleEStevee', 'HxneyKt', 'Queenbe02198560', 'your_wif', 'AllenBr77373867', 'SugarDa69881056', 'CookenJames', 'DonaldTyrer', 'betty24177098', 'tatie132', 'dotunVictorade1', 'mine26958179', 'mavijoe1', 'ObsessedCA', 'ronalddecomo', 'babygiirl_jessi', 'Vanessa84665174', 'poemdeeps_', '_ciiz_', 'Sugar_Dadddy__J', 'Ernestdion1', 'MarkjohnAll', 'GamingWorld_N', 'Bella41663984', 'sugardaddyclub_', 'sarahcoal460', 'medo_damas23', 'Itsfoodporn81', 'Dsugar76952678', 'JacobsTiffany', 'DaveLasell', 'debzykoko', 'Mikesmith008877', 'LeeWarmack', 'SugardaddyPP', 'FrenchiiW', 'ocsugardaddy', 'AngelaA31882353', 'BillyOw75924289', 'sugar_meet', 'CraigSugardad', 'JohnsonFloyd4', 'celine_rex', 'BONCASawards', 'Lovestoriy', 'VictoriaHazel7', 'fratellocigars1', 'iDreamMagcon', 'feetpic96999307', 'BigSugarManDad2', 'SugarMomaTina', 'fxckgroupie', 'Orlando48385751', 'collegegalneed', 'LuizgreGreg', 'Sugar___daddy_j', 'jamesco02534154', 'H81gnjvCQvbbRXv', 'ameliakittyx', 'Daddythompson2', 'reaalgt7', 'sky_sugarb', 'Kaopnoz', 'cashdaddysandy', 'Blair01947325', 'thomas__earl']\n",
      "--------------------\n",
      "61\n",
      "1\n",
      "-----------------------\n",
      "['NorthernOvation', 'JohnLukeNYC', 'hotsexbabe', 'leahpet73', 'SchadenJake', 'GraceVVu', 'iAlertmessage', 'ligijablesic', 'deadjez', 'foodsnetworks', 'faye_alexandria', 'laborders2000', 'finn_vincible', 'FoodPictFood', 'Itsbaypost', 'imZhao__', 'Prankingworld', 'rcawley112', 'SAAS_ALERTS', 'rocketvodka', 'metaweekitchen', 'tiffanymwang', 'VoostUK']\n",
      "--------------------\n",
      "3\n",
      "0\n",
      "['helmsman44', 'M00AJ', 'mekhlid_ku', 'baga911', 'xv1ll', 'Atari_Jones', 'abod__1970', 'baharwn', 'b_k_f_', 'v___ji', 'redcamstube', 'Anupam32102884', 'o_s', 'mimi_ab12', 'a____se', 'ammr', 'bo_sohail', 'SpestianRomanov', '6earth_1', 'Jn9__', 'dgjj_m', '1122o', 'bSTOBdmEHoMbmXc', 'mffm_2', 'B_T_RL', 'SS50__']\n",
      "--------------------\n",
      "0\n",
      "0\n",
      "['iamrocioo', 'DanielHanzelka', 'sunseriespos', 'NBFollowers', 'MTwd19', 'gbasoft', 'DanieleCostaMa3', 'Dieg0Portillo', 'JulioPosts', 'poecasanova', 'marciowelling14', 'aanuoluwa__', 'anbuggy', 'Zona_Marketing', 'GrateHIV', 'Prodigia', 'BendahanL', 'luanaemulheres', 'Desaferro', 'SFarhan9898', 'wwalkereedus', 'spiraledamore', 'PaolaVern3']\n",
      "--------------------\n",
      "0\n",
      "0\n",
      "['READYF0RlT', 'merflaska', 'OfficialShegs', 'realjacoby43', 'Jordan_Coombe', 'BBC_CORLEE', 'leeshruttino', 'worldtouris', 'SBSwags', 'KyngScarboy', 'DremTGI', 'Moosetheprince', 'tolutezzy_', 'amandapodlesak', 'paulg189', 'theremotecuck', 'CodieWestwood', 'TimCoronel', 'reedusgirl10', 'AsteroidDay', 'vincentdignan', 'officialsyko', 'Charlie22324382', 'TaylorEgly', 'JamesKennedyUK', 'MattStoicSteady', 'JamieKae', 'alispagnola', 'DaveDTC', 'GibsonGothMan', 'yvesjean']\n",
      "--------------------\n",
      "4\n",
      "0\n",
      "['newsjusticetime', 'Russo_Domenico1', 'CocoLaVieEnRose', 'Fashionabl1', 'BibopGGresta', 'TWD_StoryBegins', 'Edilsider_Spa', 'paoloroversi', 'giovannigs60', 'amberduff1513', 'reuben_aka', 'Depyos365', 'Kingsofquality', 'dateslave']\n",
      "--------------------\n",
      "1\n",
      "0\n",
      "['JordanElizabeth', 'Owenjames321', 'toneymontana__', 'SeanWillMusic', 'thomasdavid1445', '6a6f7264616e', 'JaeQueenz', 'marlonicolls', 'GodlyPhilosophy', 'StevenHandel', 'katrinagilder', 'ShaysGrace', 'annmariealman', 'stevensuvoltos', 'pjmxd95', 'WINQYiam', 'Nani85109162', 'MurrayNewlands', 'J_D_Landis', 'Jahmaiki', 'itswordtyp_', 'AyoJmoneyy', 'simplyjustbeing', 'Business_Motiv', 'TheGenysysGroup', 'DarkLoveMemory', 'NefuDaBoss', 'BlueCollarBret', 'mylovliving', 'danielmarven', 'jstorres', 'Ghlowing', 'iamoppose', 'DizzyDortch', 'prodbytaijon', 'bouska', 'JacobPardo___', 'JayWhitt_Prod', 'UlrichJvV', 'xMARLONWATTSx', 'stickn2dabasics', 'PsychologyDoc', 'averma10001', 'JasNuss', 'AlanFinn16', 'benlandis', 'DeepstuffR', 'Lovelybreka', 'BrandonJStinson', 'MHFit', 'workwthecoach', 'ktanaka13', 'conex_ndlovu', 'beingdaElite', 'JeffParshley', 'Aleex', 'NetlamBharath', 'JabaliMalik', 'tarioxx', 'DerrickLYoung_', '2kadil', 'riciofficial_', 'athletesmot', '2amFeeIings', 'pack_realness', 'ItsEliOyefeso', 'K_PoBlah', 'ILLUSIONDRAPPER', 'Elijahyats', 'Weinbach', 'THEREALTYMULA', '_LoveLike_JESUS', 'thatswhat_is', 'brandonbizior', 'philipaohlund', 'Realbrianaroy', 'sydrq', '3017ultimo', 'corrado_firera', 'Joneisha_', 'Dame_BBC', 'RRR97_apparel', 'alcesmachlis', 'Itsme__6', 'SleepSkee']\n",
      "--------------------\n"
     ]
    },
    {
     "name": "stdout",
     "output_type": "stream",
     "text": [
      "3\n",
      "0\n",
      "['Everettwilliams', 'patlewis100', 'shanestokess', 'erickrny', 'AndrewChibz', 'UK_MNEWs', 'chuksvila', 'CodyWolfeMusic', 'nicolaeliasuk', 'MrOfficialRAY', 'MikeyWax', 'Kayolefinest', 'mattklis', 'jeffreyenigma', 'mattlewisnyc', 'John_Cardiff_', 'CabiTaylor', 'SpotifyDeals', 'TaylorJTakeover', 'JaywanIncBeats', 'ceorayhhr', 'Jordanick', 'RapHubDaily', 'LouyFierce', 'TheDailyWave', 'PlutoHB', 'DmvMusicPlug', 'ShinobiNinja', 'new_branches', 'EdaraBabyG', 'RealFlyGuyAce', 'ConsiderMeDead', 'SceniousEnt', 'iamdougiekent', 'IH_Red', 'PUREVISIONS_', 'DotGera', 'honey808sweet', 'boi1dacom', 'BarringtonMole', 'Rm_Box_Ent', 'frank_leon_111', 'BenjaminEnfield', 'lifeoftrizzy', 'CardiffBros', 'RappersPlug', 'pIaythishiphop', 'WillRison', 'RNB_RADAR', 'terrencehartt', 'dr3amb3ing', 'PvTruest', 'Nomesyy', 'GayBoysWorld', 'rismatt100', 'Clonefluence', 'keithsells76', 'KINGGRAINT', 'DailyLoud', 'erinawillamson']\n",
      "--------------------\n",
      "36\n",
      "1\n",
      "-----------------------\n",
      "['NeonVagrant', 'WvBrandonwhite', 'Joe95339443', 'pastdusk', 'chefchaos1994', 'adlanborzz420', 'merikathryn', '3imaan', 'yoongi4jimin', 'JBashire', 'Casshgivess', 'SimonFelip', 'khayr_abu', 'JohnDav87344492', 'loyal92534762', 'venxsbaby', 'USATWEETLORD', 'Lobkeeeee123', 'AlibabaAliu', 'Sugardadthomas', 'Marilynspeak', 'NicoleM44299567', 'ItzzLivid', 'DeGiveawayKing1', 'kevin47202512', 'yakubublogger', 'Krzovru', 'WiredINeSports', 'Ptays179', 'LukeWilkes8', 'THESUGARDAD1___', 'deusaa22', 'AL3x2014', 'thisisqlaw', 'emilyxstella', 'bongane_ngubane', 'Sugarda47454304', 'Comicone2', 'denisejenkins93', 'elitenaosdv', 'trickylife', 'iddo_iddo', 'allinbob', 'TrilluminaQueen', 'jlgrambart', 'SUGARMOMCINDY', 'NinjaXMasterX9', 'Djackman_', '6_Yale', 'FreeAgentsOnly', 'btwdeadart', 'ThunderVeronica', 'EunByeolDane', 'TheSugarMommy2', 'TheSUGardad_13', 'KylieBlack7', 'MowinskiDonna', 'Thesugardad__', 'Adler_alfre', 'Sugar07Daddy', 'kingofccash', 'AuntyChristinex', 'woledosu', 'THESUGARDDAD1', 'ibuynudes0912', 'sommy_mufc', 'PrideGiveaways', 'Tronsupporter', 'Nigelsm37733452', 'AltSugarmommy2', 'hana70734855', 'muyheex1086', 'Air__Nordan']\n",
      "--------------------\n",
      "58\n",
      "1\n",
      "-----------------------\n",
      "['dennislee001', 'PstLily', 'sophiealiice01', 'dynet7', 'DeWeerdSusy', 'SinghLions', 'GavriellaBina', 'SiriouslySusan', 'Matt_VanDyke', 'NOH8Campaign', 'ChrisKeck1292', 'BrandonLVoss', 'aaroncarter', 'debbielasvegas1', 'iamrobertdobbs', 'MadourieNickoy', 'drippingchoc', 'GKKimutai', 'GDBlessTheUSA', 'UndeniableHeal2', 'ideacity', 'Snapes_Trilogy']\n",
      "--------------------\n",
      "0\n",
      "0\n",
      "['platt_summer', 'itsfelinglove', 'Sam_Posts', 'yungjack97', 'Cjayjustus', 'iChvse', 'shonnie_relates', 'J4CKMULL', 'oowegooeychewy', 'SheerinIsaiah', 'maik_lue', 'JoeVargas', 'sadkxit', 'CuteHotsugardad', '1soulonamission', 'DashiusClay', 'brinley145', 'MichaelPeter301', 'triedIove', 'KassidyStevens_', 'DanielNewman', 'younginrah_', '____leanne', 'GVikhlyancev', 'liIshade', 'AbkTrauma', 'downlowbliss', 'Typewriterse', 'sonamkuk1234', 'JaryZaidi', 'dolla_718', 'pvredevil', 'felingsword', 'itsshantellll', 'rabbigracias', 'Weakest', 'ProdByMeKaiel', 'LoveJaylaAyanna', 'Dripbby_jazz', 'furcoatlel', 'TumblrQuites', 'SixTenBitch', 'TheChrisWoodard', 'reaganryanne', 'untoldfeel_1', 'itsfunsonly', 'okstephenadd', 'geraIdjr', 'RackWillRock', 'TylerXCIII', 'actualasad', 'AlexJaySINGER', 'papigroovy', 'MelodyPond122', 'TeamMzansiNews1', 'DashaeWhitney', 'saddashley', 'britmorgankelly', 'noelitoflow', 'AllHailMadnezz', 'LilLexiVert', 'FeelsTom', 'Jeromebilll', 'JPREACT', 'coolen0ugh', '_igwilo', '3amChill', 'LiIScreamo', 'MarkGoulston', 'JamalWade93', 'smudger103', 'SpookyGothLoser', '_Atopahene', 'powerfullmind_', 'HtownBeast', 'itslovepromise', '1Hakz_', 'TraySamuels', 'relationshipsyh', 'JDaIey', 'lovedosefact', 'TextsNoteBook_', 'TheRealJayNine', 'trvpism', 'InternatioVal', '_latenightoff', 'baIadaboy', 'jenjen081589', 'DanJConroyUK', 'Cat_Woman_1', 'BaelessVibes', 'ExtraBentley', 'TheGaryo', 'GoodworksSounds', 'TwasmeE']\n",
      "--------------------\n",
      "12\n",
      "0\n",
      "['ChronicClaws', 'Christo71635959', 'TrackampED', 'KalaniBallFree', 'DerekAudette', 'bigvay23', 'Writer4LifeJC', 'GrandOldSports', 'ColtBrzy', 'daxksspams', 'TheBroTv00', 'nicholastmusic', 'SmCapMarketPl', 'TeRorIbo', 'AndrewCassara', 'EveShep_', 'mjengaechama', 'elmundodeseve', 'sae1k', 'treyptrsn', 'michaelmighty_', 'FuzsionYt', 'MaxFootballGame', 'therealzipo', 'DesignerEditz', 'fiesahs', 'UpcomingMist', 'RiotBKR', 'Artists2Watch_', 'TTvMattthius', 'ColtKunai', 'PSYC10NE', 'danigirl866', '11nascar', 'trevknapp', '2good2strong1', 'GamingHeaven']\n",
      "--------------------\n",
      "12\n",
      "1\n",
      "-----------------------\n",
      "['BabiNic1', 'Alicia_TWD36', 'DJHOMEWRECKR', 'nawlins_shawdy', '_TraeMartinez', 'MrLeonardKim', 'OliviaA44007709', 'ScottJKyle1', 'BlueCheeseGh', 'BlueHarmonie', 'SiemprePicheo14', 'kenyemess', 'princetyy_', 'AustinxHunt', 'SoftDomSnake', 'putahontas_xo', 'CasualStars', 'PrachiRai', 'vaselysapunov', 'nL_Seytens', '_LadyEva_', 'MatthewHanslow', 'LuisPosts', 'Vintage_Vents']\n",
      "--------------------\n",
      "0\n",
      "0\n",
      "['kimtien1368', 'Outfittrend1_', 'SexyNetworking', 'ReadyLifestyle', 'illy_gilly_', 'Dirigentes', 'PURPLEBECK1', 'Jenini_O', 'shinjuku_Panda', 'ChukMorka', 'tadmaial94', 'taylormade2k', 'hentaiorigin', 'LePandaSauvagee', 'PublicRinsing', 'STUNNACHANGTHAG']\n",
      "--------------------\n",
      "0\n",
      "0\n",
      "['ahmetyaziyo', 'ozgulofficial', 'NadirOfc', 'KahramanMemis', 'abdibaktur', 'alikeskin_tr', 'gokceozcancom', 'UfukDemiray', 'CEVDETKAVLAK', 'buraksensoy1907', 'betulovaa', 'fascinatplaces', 'heyawheee', 'ironikadamm', 'ozatasomer', 'enezozenreal', 'hakanergunrock', 'officialalihan', 'Metin_Senturk', 'gokceozcan', 'yubl_app', 'umutkatirci', 'bizimyazar', 'atabenli', 'aynurayaz', 'MehmetBerkErgin', 'ferhatgocer', 'CetinUygar1', 'MehmetCanbegOfc']\n",
      "--------------------\n",
      "0\n",
      "0\n",
      "['RT_subm', 'robertgiguere59', 'p14563', 'ClaudiaBKiss', 'Youngvainxo', 'bryannablows', 'PiggyPorn', 'findom4feet', 'OwnedSubUK', 'CallumSlave365', 'goddesszarax', 'rthound', 'finsubRT', 'maskedkiller94', 'EntHeartless', 'meddiebaddie', 'Royal_Ashe', 'RTpet2', 'findomqueen_1', 'RoyalCourtRT', 'KinsleyPresley', 'Aslut11', 'Peon4use', 'itinerantsub', 'footboyjames', 'MT45110', 'womenruleonly', 'rtjackass', 'BellonaRaven', 'WEAKESTLOSER', 'mariano_gzz7', 'SpeaksFemdom', 'neviamara', 'LydiaTLove', 'LoserBroke', 'perfectboyzs', 'RayColt1', 'ChampagneGirl93', 'ecko2216', 'JessicaStrokes', 'tonybobo3', 'RebbecaTLove', 'doctor_slave', 'Lov3ly_Ladi3s', 'Promotrix11', 'Private_Kittyx', 'CJThomas_SUB', 'JasonW007111', 'Juliaadent1', 'queenbabyjade_', 'ZarasWishlistP', 'goddessjas_xo', 'jennymo06701365', 'loser4u2', 'littlekvrly', 'Raven_Krystyne', 'finsubbism', 'SammyStrips', 'NikkiBabii22', 'goddessamelia11', '_goddesschel', 'find0m', 'GoddessIvyStor1', 'anji91073834', 'nsfwvom', 'ElleAtTheEssex', 'PsychicRen', 'RTsubforyou', 'losernerd5', 'DeaEvaKesha', 'Mmmbaddies', 'slaves1998', 'marccunnilingus', 'CelestWillow', 'Sexyh0tAsians', 'Brun0Parent', 'FinDom08275404', 'BabygirlPetite', 'queen_devorah', 'Ladd123Ladd', 'd0nutboi', 'DirkHooper', 'CamLustcom', 'Annabelle_Hime', 'jessie_lovefit', 'jaded_thot', 'BeautyBrainsand', 'benjithepup', 'emilymayevans', 'RyderGoddess', 'ServingSlut']\n",
      "--------------------\n",
      "127\n",
      "1\n",
      "-----------------------\n",
      "['Kathleen3693693', 'OccupyBawlStree', 'CB618444', 'TheBeaSmith', 'Helena81927740', 'ColoradoForBeto', 'NJ_2_FL', 'FaithP5x', 'USAF_Anderson', 'buddywriterdude', 'Jules9800', 'robert802597971', 'standswith45', 'PatrickW', 'MsAvaArmstrong', 'BlueSea1964', 'patsybvasquez', 'rsteiner', 'LaurieCQ10', 'TiredofBS11', 'flyby2474', 'CombatDebater', 'ThinkOneWorld', 'Redtowel4', 'katsund4', 'ProfSchlitzo7', 'bgood12345', 'mymynags', 'bud_cann', 'candacemickey1', 'ausgirlhere', 'Matthew8119', 'marksparkman', 'JulieReichwein1', 'LosAngeles1850', 'ReElect20', 'Lisamoo81028124', 'DollArntzen', 'Noonex8900', 'joycarmody', 'RayRay12029378', 'MyFamous2012', 'LibsInAmerica', 'ReconRican72', 'MikeNordon', 'ChapulinColoRed', 'hwtjr66', 'carlasare_john', 'smokeinpeaceUSA', 'DavidGr78574965', 'Josh07867243', 'eatHumblePride', 'matosortho', 'frostfeet21', 'emanny9', 'Capitan47Milag', 'TommyPaine7', 'RebeccaMcNutt2', 'Akki_J2', 'mpukita', 'RandyJayJ', 'ConservaMomUSA', 'HelpStopHate', 'BillClintonTHOF', 'Rampage95Actual', 'TheFakePreside2', 'forlornQuixOtic', 'SeattleBigBlue', '69Marine', 'Draniarb', 'sunvalleyid', 'MattBatzel', 'MD_DCJoe', 'jonaa369', 'mama2fluffs', 'team4nicholas', 'TapestryofPeace', 'Trey_VonDinkis', 'TwoBroadsTalk', 'KhetaAmenti', 'GJTIII', 'BradReason', 'mikebwonder', 'jujube1027', 'GreerIluv', 'janiszilly', 'IFBpaul', 'official_ifelaw', 'montanaisthebes', 'KimberleyCOU', 'FilipRisteski', 'DoogDuganResist', 'on_belay', 'allanjohnsonmn1', 'TiopolGuillory', 'noraconnor89', 'Dannoacton', 'DreaDodge', 'sianoresist', 'BrettJSimpson', 'chrisha69043283', 'BethCornitius', 'LorettaPatriot', 'AnnaL001', 'fordmb1', 'MPADMAVATI1', 'inittowinit007', 'pwitunski5', 'Poruje', 'Jeh57John', 'ntr0city', 'the_feral1', 'Snuggzz4121', 'nvromaloompa', 'Naifaz4', 'MarkUSAa', 'EdKrassen', 'IamcldPatricia', 'TrinityMustache', 'PaulieD55', 'jpuopolo', 'NavaiBaku', 'trumpdictionary', 'genenevada', 'johnpeco1', 'mycraizins', 'StatisticsGuru', 'Jana__Howser', 'baileyjer']\n",
      "--------------------\n"
     ]
    },
    {
     "name": "stdout",
     "output_type": "stream",
     "text": [
      "207\n",
      "1\n",
      "-----------------------\n",
      "['ankarayazifilm', 'Siir_Sokaktadir', 'halilikTR', 'resmiyunusemre', 'autherok', 'mehmetyasmut', 'TwitBakani', '1SnDurGitme', 'SrTahirBilici', 'cestomina', 'thehukumdar', 'baybadu', 'Trt1Milat', 'yusufsametcakir', 'nrdnnereyefilmi', 'feyzullahdogru', 'islamsozler', 'resitkurtt', 'davutgoksu', 'KRPkitap', 'dinlekazantv', 'Bilalisgoren', 'Aksiyonisci', 'ElGrandeVertigo', 'bulutlarayazin', 'OTCMJStocks21', 'firatinblogu', 'emrealmas_', 'AhmetGedikoqlu', 'oiszor', 'mcihadgunes', 'Huseyin072']\n",
      "--------------------\n",
      "0\n",
      "0\n",
      "['FashoMoneyJohn', 'ShawettOnDeck', 'javonjourney', 'princessC124', 'DJAyeTee', 'KDgoHARD', 'Only_OneLA', 'trevor_norris0', 'SayCrayton', 'Bluntreras', '_djrocklee', 'Jayelixiruk', 'tayasavy', 'HollywoodSwervo', 'CheDeVante', 'therealmohameds', 'J_Mance_', '_Alake', 'kryptoNHIte', 'NudeGameHeavy', 'bluntastiiic', 'MylesAjani', 'mikaelapeach', 'leslielo0ve', 'TWitt_5', 'ThaGoldenJet', 'Gary76714555', 'babyitsmb', 'aviandeyez_', 'KameronBennett', 'TRILLPRINCERORO', 'mulattoclit', 'CraveFayyy', 'nineprettyass', 'ReminisceSage', 'daywayofficial', 'Morgan__ml', 'HARDWHlTE', 'Pettiiiness', 'Dominique_512', 'paulaaaaaat', 'brittanydivae', 'QuecianaWalton', 'JeremiahLanez', 'DjoneWay__', 'sweetsalvie18', 'Shynie_Won', 'Mariaxogee', '1freebandkel', 'BabyMulaaa', 'Junior4L_', 'onlyleek_', 'RollingPlaness', 'RealestKavi', 'jinxxsbuttcheek', 'iambromans', 'CjayyTaughtHer', 'yarianamartinez', 'alightskinnigga', 'JustZayy', 'misterjuro', 'ErykahBabyy', 'cammy_camilla', 'xxxxxexxxxx', 'Ronniee_K', 'jocurvy1', 'ViewsFromDiea', 'whoisflea', 'Prettynthin', 'krisveitch', 'ChapoBanz', 'babybresshorty', 'Kurstinnnn', 'AyoTaye_', 'citygirlbrii', 'Jazzy_Toocool', 'Money_g0hard', 'Swagg17_', 'Lynndell_', '40oz_Neke', 'Gxlden_Br0wn', 'YoungKGhoo', 'BriaGotTheSauce', 'OttoShaady', 'HurtVibesHTX', 'Yungin4rmBRLA', 'dboi_dope', 'rarambulaa', 'nw_haven', 'Vibewithmy', 'Bitvhitsjesus', 'LuhDoOpe', 'zaytatted', 'VibeWitHeem', 'makaydb', 'Laabit_', 'Thats_SoRaia', 'colldhearted', 'Steezyy_guapo', 'ohitsyouchris', 'partywithshilo', 'SavageLonerr', 'kemar_young', 'willis_cj', 'Sheneedslonniee', 'DNikedup', 'istrippymane', 'TOKERNEXTDOOR', 'officialGA_Josh', 'unique_lenaa', 'Mixedcaramel7', 'NeedToDrop', 'Wuggaaaaa_', 'javorus_moore', 'Cashmase', 'iitzy7', 'EmmyUzoma', 'Donn_Knee', 'YbgNeek', '__Reckkk', 'CARTIBANKX', '_homegrownlife', 'FANELAOPE', 'imLatrell', 'xWakeNBaker', 'TheReal_Sonny', 'PlugSixtyNine', 'SingleAndHorny2', 'jakecardiff401', 'Lexi1DGirl', 'ohlexiaaa', 'kvrinvojedv', 'adubshordy', 'QueenBreeezo', 'RideWithGio', 'Famous2waavvy', 'marlee_Supreme', 'imkoda__', 'RyanDiew', 'PeteyPlastic', 'angiematera1', 'KyleEdwards', 'iAmMuzicKing', 'malachizoutlook', 'AAClothin', 'zenxty', 'TweezyTreezii', 'havanaarosee', 'xcIusvv', '1kCobi', 'TooBasedChris']\n",
      "--------------------\n",
      "190\n",
      "1\n",
      "-----------------------\n"
     ]
    }
   ],
   "source": [
    "for x in range(0, int(max_topics)):\n",
    "    similar_first_topic = data.loc[data['First_Topic'] == float(x)]\n",
    "    users = list(similar_first_topic['Document_ID'])\n",
    "    clean_users = []\n",
    "    for item in users:\n",
    "        clean_users.append(item.replace('clean_',''))\n",
    "        \n",
    "    end_users = []\n",
    "    for item2 in clean_users:\n",
    "        item3 = item2.replace(\".csv\",\"\")\n",
    "        names = item3.split(\"-\")   \n",
    "        end_users.append(names.pop())\n",
    "\n",
    "    print(end_users)\n",
    "    print(\"--------------------\")\n",
    "    sub_G = nx.Graph()\n",
    "    for item4 in end_users:\n",
    "        for item5 in end_users:\n",
    "            edge_tuple_1 = (item4, item5)\n",
    "            edge_tuple_2 = (item5, item4)\n",
    "            if (edge_tuple_1 in list_of_edges) or (edge_tuple_2 in list_of_edges):\n",
    "                if item4 not in list(sub_G.node):\n",
    "                    sub_G.add_node(item4)\n",
    "                if item5 not in list(sub_G.node):\n",
    "                    sub_G.add_node(item5)\n",
    "                sub_G.add_edge(item4, item5)\n",
    "                \n",
    "\n",
    "    print(len(sub_G.edges))\n",
    "    if len(sub_G.nodes) == 0:\n",
    "        pass\n",
    "    else:\n",
    "        nx.write_gexf(sub_G, \"/Users/savanpatel/Desktop/sfsu/research/spamDetection/SDUTDPRev3/DataProcessing/gexFiles/Topic\"+str(float(x))+\"DirectedsubGraph.gexf\")\n",
    "    \n",
    "    \n",
    "    # remnnoving self-loops, k-core does not work with self-loops in the graph\n",
    "    sub_G.remove_edges_from(nx.selfloop_edges(G))\n",
    "    \n",
    "    # convert directed graph to undirected\n",
    "    # otherwise you cannot extract all the subgraphs for the given graph using k-core\n",
    "    UG = sub_G.to_undirected()\n",
    "    nx.core_number(UG)\n",
    "    \n",
    "    \n",
    "    # extracting all the subgraphs from the undirected graph with order of the node = 2\n",
    "    graphs = list(nx.connected_component_subgraphs(nx.k_core(UG,k=2)))\n",
    "    print(len(graphs))\n",
    "    if len(graphs) == 0:\n",
    "        continue\n",
    "    \n",
    "    for sub_graph in graphs:\n",
    "        print(\"-----------------------\")\n",
    "        json_data = json_graph.node_link_data(sub_graph)\n",
    "        with open('SubGraphs/'+str(float(x))+'topic-SubGraph'+str(graphs.index(sub_graph))+'.json', 'w') as outfile:\n",
    "            nx.write_gexf(sub_graph, \"/Users/savanpatel/Desktop/sfsu/research/spamDetection/SDUTDPRev3/DataProcessing/SubGraphGexFiles/Topic\"+str(float(x))+\"topic-SubGraph\"+str(graphs.index(sub_graph))+\".gexf\")\n",
    "            json.dump(json_data, outfile)"
   ]
  },
  {
   "cell_type": "code",
   "execution_count": null,
   "metadata": {},
   "outputs": [],
   "source": []
  }
 ],
 "metadata": {
  "kernelspec": {
   "display_name": "Python 3",
   "language": "python",
   "name": "python3"
  },
  "language_info": {
   "codemirror_mode": {
    "name": "ipython",
    "version": 3
   },
   "file_extension": ".py",
   "mimetype": "text/x-python",
   "name": "python",
   "nbconvert_exporter": "python",
   "pygments_lexer": "ipython3",
   "version": "3.6.8"
  }
 },
 "nbformat": 4,
 "nbformat_minor": 2
}
